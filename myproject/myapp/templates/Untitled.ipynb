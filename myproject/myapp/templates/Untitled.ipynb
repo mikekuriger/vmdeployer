{
 "cells": [
  {
   "cell_type": "code",
   "execution_count": 2,
   "id": "cfd2e2c9-6abb-4a74-8780-83867b85f659",
   "metadata": {},
   "outputs": [
    {
     "name": "stdout",
     "output_type": "stream",
     "text": [
      "2024-10-09T08:28:40\n"
     ]
    }
   ],
   "source": [
    "from datetime import datetime\n",
    "\n",
    "# Get current date and time\n",
    "now = datetime.now()\n",
    "\n",
    "# Convert to string and split on the decimal to exclude microseconds\n",
    "date2 = now.strftime(\"%Y-%m-%dT%H:%M:%S\")\n",
    "\n",
    "print(date2)\n"
   ]
  },
  {
   "cell_type": "code",
   "execution_count": 4,
   "id": "4f10cb1a-eed4-41de-97bd-1902b956ee19",
   "metadata": {},
   "outputs": [
    {
     "name": "stdout",
     "output_type": "stream",
     "text": [
      "/usr/sbin/adjoin --server DFW2W2SDC05.corp.pvt -z YourZone -R YourRole -c OU=Computers,OU=Centrify,DC=corp,DC=pvt -f corp.pvt -u svc_centrify -p '#xupMcMlURubO2|'\n"
     ]
    }
   ],
   "source": [
    "centrify_zone = \"YourZone\"\n",
    "centrify_role = \"YourRole\"\n",
    "\n",
    "adjoin = f\"/usr/sbin/adjoin --server DFW2W2SDC05.corp.pvt -z {centrify_zone} -R {centrify_role} \" \\\n",
    "         \"-c OU=Computers,OU=Centrify,DC=corp,DC=pvt -f corp.pvt -u svc_centrify -p '#xupMcMlURubO2|'\"\n",
    "\n",
    "print(adjoin)"
   ]
  },
  {
   "cell_type": "code",
   "execution_count": 8,
   "id": "0c7ea35a-9f4a-48d4-ba9a-a7da54dd6dfe",
   "metadata": {},
   "outputs": [
    {
     "name": "stdout",
     "output_type": "stream",
     "text": [
      "sed -i 's/^#PasswordAuthentication.*/PasswordAuthentication yes/' /etc/centrifydc/ssh/sshd_config;systemctl mask sshd;systemctl enable centrify-sshd;mv /usr/bin/sudo /usr/bin/sudo.pre.cfy;ln -s /usr/bin/dzdo /usr/bin/sudo\n"
     ]
    }
   ],
   "source": [
    "centrify_sshd = f\"sed -i 's/^#PasswordAuthentication.*/PasswordAuthentication yes/' \" \\\n",
    "                \"/etc/centrifydc/ssh/sshd_config;systemctl mask sshd;systemctl enable \" \\\n",
    "                \"centrify-sshd;mv /usr/bin/sudo /usr/bin/sudo.pre.cfy;ln -s /usr/bin/dzdo /usr/bin/sudo\"\n",
    "print(centrify_sshd)\n"
   ]
  },
  {
   "cell_type": "code",
   "execution_count": 15,
   "id": "5c1b0c5c-abc9-4356-b797-4fa20e0a0168",
   "metadata": {},
   "outputs": [
    {
     "name": "stdout",
     "output_type": "stream",
     "text": [
      "/usr/sbin/adjoin --server DFW2W2SDC05.corp.pvt -z YourZone -R YourRole -c OU=Computers,OU=Centrify,DC=corp,DC=pvt -f corp.pvt -u svc_centrify -p '#xupMcMlURubO2|'\n"
     ]
    }
   ],
   "source": [
    "commands = {\n",
    "    \"adjoin\": f\"/usr/sbin/adjoin --server DFW2W2SDC05.corp.pvt -z {centrify_zone} -R {centrify_role} \" \\\n",
    "         \"-c OU=Computers,OU=Centrify,DC=corp,DC=pvt -f corp.pvt -u svc_centrify -p '#xupMcMlURubO2|'\",\n",
    "    \"centrify_sshd\": f\"sed -i 's/^#PasswordAuthentication.*/PasswordAuthentication yes/' \" \\\n",
    "                \"/etc/centrifydc/ssh/sshd_config;systemctl mask sshd;systemctl enable \" \\\n",
    "                \"centrify-sshd;mv /usr/bin/sudo /usr/bin/sudo.pre.cfy;ln -s /usr/bin/dzdo /usr/bin/sudo\",\n",
    "    \"mountdisks\": \"\",\n",
    "    \"dumpdisks\": \"\",\n",
    "    \"update\": \"\",\n",
    "    \"fyptools_install\": \"\",\n",
    "    \"cohesity_install\": \"\",\n",
    "    \"automount_homedir\": \"\"\n",
    "}\n",
    "print(commands[\"adjoin\"])"
   ]
  },
  {
   "cell_type": "code",
   "execution_count": 16,
   "id": "e929a076-80ec-4a02-be2d-38a7c269891f",
   "metadata": {},
   "outputs": [
    {
     "ename": "NameError",
     "evalue": "name 'deployment_name' is not defined",
     "output_type": "error",
     "traceback": [
      "\u001b[0;31m---------------------------------------------------------------------------\u001b[0m",
      "\u001b[0;31mNameError\u001b[0m                                 Traceback (most recent call last)",
      "\u001b[0;32m<ipython-input-16-6c9b4de6ca5a>\u001b[0m in \u001b[0;36m<module>\u001b[0;34m\u001b[0m\n\u001b[1;32m      1\u001b[0m \u001b[0;31m# Print values to confirm they've been set correctly\u001b[0m\u001b[0;34m\u001b[0m\u001b[0;34m\u001b[0m\u001b[0;34m\u001b[0m\u001b[0m\n\u001b[0;32m----> 2\u001b[0;31m \u001b[0mprint\u001b[0m\u001b[0;34m(\u001b[0m\u001b[0;34mf\"Deployment Name: {deployment_name}\"\u001b[0m\u001b[0;34m)\u001b[0m\u001b[0;34m\u001b[0m\u001b[0;34m\u001b[0m\u001b[0m\n\u001b[0m\u001b[1;32m      3\u001b[0m \u001b[0mprint\u001b[0m\u001b[0;34m(\u001b[0m\u001b[0;34mf\"Deployment Date: {deployment_date}\"\u001b[0m\u001b[0;34m)\u001b[0m\u001b[0;34m\u001b[0m\u001b[0;34m\u001b[0m\u001b[0m\n\u001b[1;32m      4\u001b[0m \u001b[0mprint\u001b[0m\u001b[0;34m(\u001b[0m\u001b[0;34mf\"Deployment Count: {deployment_count}\"\u001b[0m\u001b[0;34m)\u001b[0m\u001b[0;34m\u001b[0m\u001b[0;34m\u001b[0m\u001b[0m\n\u001b[1;32m      5\u001b[0m \u001b[0;31m# Required for build\u001b[0m\u001b[0;34m\u001b[0m\u001b[0;34m\u001b[0m\u001b[0;34m\u001b[0m\u001b[0m\n",
      "\u001b[0;31mNameError\u001b[0m: name 'deployment_name' is not defined"
     ]
    }
   ],
   "source": [
    "# Print values to confirm they've been set correctly\n",
    "print(f\"Deployment Name: {deployment_name}\")\n",
    "print(f\"Deployment Date: {deployment_date}\")\n",
    "print(f\"Deployment Count: {deployment_count}\")\n",
    "# Required for build\n",
    "print(f\"VM: {VM}\")\n",
    "print(f\"OS: {OS}\")\n",
    "print(f\"CPU: {CPU}\")\n",
    "print(f\"Memory (MB): {MEM}\")\n",
    "print(f\"Disk Size (GB): {DISK}\")\n",
    "print(f\"Datacenter: {DC}\")\n",
    "print(f\"Network (VLAN): {VLAN}\")\n",
    "print(f\"Cluster: {CLUSTER}\")\n",
    "print(f\"Type: {TYPE}\")\n",
    "print(f\"Built By: {BUILTBY}\")\n",
    "print(f\"Ticket: {TICKET}\")\n",
    "print(f\"Application Name: {APPNAME}\")\n",
    "print(f\"Owner: {OWNER}\")\n",
    "# Options\n",
    "print(f\"Automount Enabled: {NFS}\")\n",
    "print(f\"Additional Disk: {adddisk}\")\n",
    "print(f\"Add Disk Command: {ADDDISK}\")\n",
    "print(f\"Centrify Zone: {centrify_zone}\")\n",
    "print(f\"Centrify Role: {centrify_role}\")\n",
    "print(f\"Centrify Command: {CENTRIFY}\")\n",
    "print(f\"Patches Enabled: {patches}\")\n",
    "print(f\"Patch Command: {PATCH}\")"
   ]
  },
  {
   "cell_type": "code",
   "execution_count": 17,
   "id": "f4f0b7ff-ef95-463c-ac48-e816cd09cf18",
   "metadata": {},
   "outputs": [],
   "source": [
    "# Example variables (replace these with actual values or variables as needed)\n",
    "VM = \"st1lntmike03\"\n",
    "CLUSTER = \"B-2-4\"\n",
    "OS = \"SSVM-OEL8\"\n",
    "CPU = 2\n",
    "MEM = 4096  # Memory in MB\n",
    "DISK = 60  # Disk size in GB\n",
    "DC = \"st1\"\n",
    "DOMAIN = \"corp.pvt\"\n",
    "VLAN = \"VLAN540\"\n",
    "DNS = \"10.6.1.111,10.4.1.111\"\n",
    "DOMAINS = \"corp.pvt dexmedia.com superpages.com supermedia.com prod.st1.yellowpages.com np.st1.yellowpages.com st1.yellowpages.com\"\n",
    "NETWORK = \"10.5.32-VLAN540-DvS\"\n",
    "NETMASK = \"255.255.252.0\"\n",
    "TYPE = \"Testing\"\n",
    "BUILTBY = \"mk7193\"\n",
    "TICKET = \"TSM-123\"\n",
    "APPNAME = \"Cool App\"\n",
    "OWNER = \"Michael Kuriger (mk7193)\""
   ]
  },
  {
   "cell_type": "code",
   "execution_count": 18,
   "id": "ac4ca7f8-d2d3-4bd3-b7f4-20a210753ed7",
   "metadata": {},
   "outputs": [
    {
     "name": "stdout",
     "output_type": "stream",
     "text": [
      "100G\n",
      "/oracle_home\n"
     ]
    }
   ],
   "source": [
    "ADDDISK = \"100,/oracle_home\"\n",
    "size, label = ADDDISK.split(',')\n",
    "size = (size + \"G\")\n",
    "print(size)\n",
    "print(label)\n"
   ]
  },
  {
   "cell_type": "code",
   "execution_count": 20,
   "id": "20bf9dc7-3df7-43a6-a92b-7ee892feabf3",
   "metadata": {},
   "outputs": [
    {
     "name": "stdout",
     "output_type": "stream",
     "text": [
      "st1lntmike03/st1lntmike03_z\n"
     ]
    }
   ],
   "source": [
    "VM=\"st1lntmike03\"\n",
    "disk_name = (VM + \"/\" + VM + \"_z\")\n",
    "print(disk_name)\n"
   ]
  },
  {
   "cell_type": "code",
   "execution_count": 27,
   "id": "9aead95e-883d-4a53-a416-8da3922b54a3",
   "metadata": {},
   "outputs": [
    {
     "name": "stdout",
     "output_type": "stream",
     "text": [
      "st1lntmk7193.corp.pvt resolves to 10.5.4.20\n"
     ]
    }
   ],
   "source": [
    "import socket\n",
    "VM='st1lntmk7193'\n",
    "#DOMAIN='corp.pvt'\n",
    "ip_address = socket.gethostbyname(f\"{VM}.{DOMAIN}\")\n",
    "print(f\"{VM}.{DOMAIN} resolves to {ip_address}\")\n"
   ]
  },
  {
   "cell_type": "code",
   "execution_count": 35,
   "id": "83bb636e-84c3-41f2-ae33-0592c6e001cf",
   "metadata": {},
   "outputs": [
    {
     "name": "stdout",
     "output_type": "stream",
     "text": [
      "21\n"
     ]
    }
   ],
   "source": [
    "import random\n",
    "retry_delay = int(random.uniform(5, 30))\n",
    "print(retry_delay)"
   ]
  },
  {
   "cell_type": "code",
   "execution_count": null,
   "id": "0534ccb4-b0a9-4b43-8864-fc04194a2857",
   "metadata": {},
   "outputs": [],
   "source": [
    "# Build the command, including optional arguments if they are set\n",
    "if CENTRIFY == \"True\":\n",
    "    command = [\n",
    "        \"python\", \"generate_iso_command.py\", \"--vm\", f\"{VM}.{DOMAIN}\", \"--type\", TYPE,\n",
    "        \"--builtby\", BUILTBY, \"--ticket\", TICKET, \"--appname\", APPNAME, \"--owner\", OWNER,\n",
    "        \"--automount\", NFS, \"--patch\", PATCH, \"--adddisk\", ADDDISK, \"--centrify_zone\",\n",
    "        centrify_zone, \"--centrify_role\", centrify_role\n",
    "    ]\n",
    "else:\n",
    "    command = [\n",
    "        \"python\", \"generate_iso_command.py\", \"--vm\", f\"{VM}.{DOMAIN}\", \"--type\", TYPE,\n",
    "        \"--builtby\", BUILTBY, \"--ticket\", TICKET, \"--appname\", APPNAME, \"--owner\", OWNER,\n",
    "        \"--automount\", NFS, \"--patch\", PATCH, \"--adddisk\", ADDDISK\n",
    "    ]"
   ]
  }
 ],
 "metadata": {
  "kernelspec": {
   "display_name": "Python 3",
   "language": "python",
   "name": "python3"
  },
  "language_info": {
   "codemirror_mode": {
    "name": "ipython",
    "version": 3
   },
   "file_extension": ".py",
   "mimetype": "text/x-python",
   "name": "python",
   "nbconvert_exporter": "python",
   "pygments_lexer": "ipython3",
   "version": "3.6.8"
  }
 },
 "nbformat": 4,
 "nbformat_minor": 5
}
