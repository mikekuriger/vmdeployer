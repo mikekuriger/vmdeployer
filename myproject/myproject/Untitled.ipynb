{
 "cells": [
  {
   "cell_type": "code",
   "execution_count": 3,
   "id": "822b8171-b0b0-4f42-82ba-99ab2a0c62b5",
   "metadata": {},
   "outputs": [
    {
     "name": "stdout",
     "output_type": "stream",
     "text": [
      "['python', '/test/path/deploy_script.py', '/where/simy/media/some-deployment.queued']\n"
     ]
    }
   ],
   "source": [
    "base_path = \"/test/path\"\n",
    "source_path = \"/where/simy/media\"\n",
    "deployment_name = \"some-deployment\"\n",
    "deploy_command = [\"python\", f\"{base_path}/deploy_script.py\", f\"{source_path}/{deployment_name}.queued\"]\n",
    "TMP_DIR = f\"{settings.BASE_DIR}/tmp\"\n",
    "print(deploy_command)"
   ]
  },
  {
   "cell_type": "code",
   "execution_count": 9,
   "id": "4dbd89ec-0606-496b-acee-7767f661f483",
   "metadata": {},
   "outputs": [
    {
     "name": "stdout",
     "output_type": "stream",
     "text": [
      "/usr/lib/mike/hello.txt\n"
     ]
    }
   ],
   "source": [
    "from pathlib import Path\n",
    "TMP_DIR = Path(\"/usr/lib/mike\")\n",
    "file_name = \"hello.txt\"\n",
    "spool_path = TMP_DIR / file_name\n",
    "print(spool_path)"
   ]
  },
  {
   "cell_type": "code",
   "execution_count": null,
   "id": "9946905a-004d-4a60-b25e-4592734cbeca",
   "metadata": {},
   "outputs": [],
   "source": [
    "<style> \n",
    "        body {\n",
    "            font-family: Arial, sans-serif;\n",
    "            background-color: #f9f9f9;\n",
    "            margin: 0;\n",
    "            padding: 20px;\n",
    "        }\n",
    "\n",
    "        h1 {\n",
    "            text-align: left; /* Align text to the left within the container */\n",
    "            margin-bottom: 10px; /* Add some space between the heading and the table */\n",
    "            color: #333;\n",
    "            font-size: 18px;\n",
    "        }\n",
    "\n",
    "        table {\n",
    "            width: 100%;\n",
    "            margin: 0 auto;\n",
    "            border-collapse: collapse;\n",
    "            box-shadow: 0 4px 8px rgba(0, 0, 0, 0.1);\n",
    "        }\n",
    "        \n",
    "        .table-container {\n",
    "            width: 80%; /* Match the width of the table */\n",
    "            margin: 0 auto; /* Center the container */\n",
    "        }\n",
    "\n",
    "        th, td {\n",
    "            text-align: left;\n",
    "        }\n",
    "        \n",
    "        td {\n",
    "            padding: 2px;\n",
    "            color: black;\n",
    "            font-size: 15px;\n",
    "            text-align: left;\n",
    "            \n",
    "        }\n",
    "\n",
    "        th {\n",
    "            background-color: #e6dcc1;\n",
    "            color: black;\n",
    "            font-size: 14px;\n",
    "            padding: 10px;\n",
    "        }\n",
    "\n",
    "        tr:nth-child(even) {\n",
    "            background-color: #f2f2f2;\n",
    "        }\n",
    "\n",
    "        tr:hover {\n",
    "            background-color: #e0f7e9;\n",
    "        }\n",
    "\n",
    "        a {\n",
    "            color: #4CAF50;\n",
    "            text-decoration: none;\n",
    "            \n",
    "        }\n",
    "\n",
    "        a:hover {\n",
    "            text-decoration: underline;\n",
    "        }\n",
    "        \n",
    "        .status-queued {\n",
    "            color: blue;\n",
    "        }\n",
    "        .status-building {\n",
    "            color: darkorange;\n",
    "        }\n",
    "        .status-deployed {\n",
    "            color: black;\n",
    "        }\n",
    "        .status-failed {\n",
    "            color: red;\n",
    "        }\n",
    "    </style>"
   ]
  }
 ],
 "metadata": {
  "kernelspec": {
   "display_name": "Python 3",
   "language": "python",
   "name": "python3"
  },
  "language_info": {
   "codemirror_mode": {
    "name": "ipython",
    "version": 3
   },
   "file_extension": ".py",
   "mimetype": "text/x-python",
   "name": "python",
   "nbconvert_exporter": "python",
   "pygments_lexer": "ipython3",
   "version": "3.6.8"
  }
 },
 "nbformat": 4,
 "nbformat_minor": 5
}
